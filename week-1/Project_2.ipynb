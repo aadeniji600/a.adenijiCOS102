{
 "cells": [
  {
   "cell_type": "code",
   "execution_count": 8,
   "id": "eb8f7f7f-a625-47b7-a8be-d78968c2e65f",
   "metadata": {},
   "outputs": [
    {
     "name": "stdin",
     "output_type": "stream",
     "text": [
      "Enter your principal: 5000\n",
      "Enter your rate of interest: 3\n",
      "Enter number of years: 2\n"
     ]
    },
    {
     "name": "stdout",
     "output_type": "stream",
     "text": [
      "Your Amount is: 10300.0\n",
      "Your Compound Interest is: 5300.0\n"
     ]
    }
   ],
   "source": [
    "# Python program to find compound interest\n",
    "p = int(input('Enter your principal:'))\n",
    "r = int(input('Enter your rate of interest:'))\n",
    "n = int(input('Enter number of years:'))\n",
    "\n",
    "a = p * (1.0 +(r/100)) * n \n",
    "print('Your Amount is:' ,a)\n",
    "ci = a - p\n",
    "print('Your Compound Interest is:' ,ci)\n"
   ]
  },
  {
   "cell_type": "markdown",
   "id": "1adaa998-c0e0-41b1-97e4-d5d0777d7de0",
   "metadata": {},
   "source": [
    "PSEUSOCODE FOR CALCULATING COMPOUND INTEREST\r\n",
    "INPUT p\r\n",
    "INPUT r\r\n",
    "INPUT t\r\n",
    "COMPUTE a = p * (1.0 +(r/100)) * n\r\n",
    "PRINT a\r\n",
    "COMPUTE ci = a - p\r\n",
    "PRINT ci\r\n"
   ]
  }
 ],
 "metadata": {
  "kernelspec": {
   "display_name": "Python 3 (ipykernel)",
   "language": "python",
   "name": "python3"
  },
  "language_info": {
   "codemirror_mode": {
    "name": "ipython",
    "version": 3
   },
   "file_extension": ".py",
   "mimetype": "text/x-python",
   "name": "python",
   "nbconvert_exporter": "python",
   "pygments_lexer": "ipython3",
   "version": "3.11.7"
  }
 },
 "nbformat": 4,
 "nbformat_minor": 5
}
