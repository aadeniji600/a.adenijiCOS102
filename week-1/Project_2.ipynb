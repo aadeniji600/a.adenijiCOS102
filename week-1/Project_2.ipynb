{
 "cells": [
  {
   "cell_type": "code",
   "execution_count": 1,
   "id": "eb8f7f7f-a625-47b7-a8be-d78968c2e65f",
   "metadata": {},
   "outputs": [
    {
     "name": "stdin",
     "output_type": "stream",
     "text": [
      "Enter your principal: 100\n",
      "Enter your rate of interest: 10\n",
      "Enter your n: 5\n",
      "Enter your time in years 2\n"
     ]
    },
    {
     "name": "stdout",
     "output_type": "stream",
     "text": [
      "Your Amount is: 5904900.0\n"
     ]
    }
   ],
   "source": [
    "# Python program to find compound interest\n",
    "p = int(input('Enter your principal:'))\n",
    "r = int(input('Enter your rate of interest:'))\n",
    "n = int(input('Enter your n:'))\n",
    "t = int(input('Enter your time in years:'))\n",
    "\n",
    "a = p * (1+(r/n)) ** (n*t)\n",
    "print('Your Amount is:' ,a)\n"
   ]
  },
  {
   "cell_type": "markdown",
   "id": "1adaa998-c0e0-41b1-97e4-d5d0777d7de0",
   "metadata": {},
   "source": [
    "PSEUSOCODE FOR CALCULATING COMPOUND INTEREST\n",
    "START\r\n",
    "INPUT p\r\n",
    "INPUT r\r\n",
    "INPUT t\r\n",
    "COMPUTE a = p +(r/n))**(n*t) * n\r\n",
    "PR\n",
    "ENDIRINT ci\r\n"
   ]
  }
 ],
 "metadata": {
  "kernelspec": {
   "display_name": "Python 3 (ipykernel)",
   "language": "python",
   "name": "python3"
  },
  "language_info": {
   "codemirror_mode": {
    "name": "ipython",
    "version": 3
   },
   "file_extension": ".py",
   "mimetype": "text/x-python",
   "name": "python",
   "nbconvert_exporter": "python",
   "pygments_lexer": "ipython3",
   "version": "3.11.7"
  }
 },
 "nbformat": 4,
 "nbformat_minor": 5
}
