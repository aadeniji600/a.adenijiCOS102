{
 "cells": [
  {
   "cell_type": "code",
   "execution_count": 2,
   "id": "f4836965-eda1-4ea9-bdb1-20684ae4dc8d",
   "metadata": {},
   "outputs": [
    {
     "name": "stdin",
     "output_type": "stream",
     "text": [
      "Enter your principal: 500\n",
      "Enter your rate of interest: 2\n",
      "Enter the time period in years: 2\n"
     ]
    },
    {
     "name": "stdout",
     "output_type": "stream",
     "text": [
      "Your Simple Interest is: 20.0\n",
      "Your Amount is: 520.0\n"
     ]
    }
   ],
   "source": [
    "# Python program to find simple interest\n",
    "p = int(input('Enter your principal:'))\n",
    "r = int(input('Enter your rate of interest:'))\n",
    "t = int(input('Enter the time period in years:'))\n",
    "\n",
    "si = (p * r * t)/100\n",
    "print('Your Simple Interest is:' ,si)\n",
    "a = p + si\n",
    "print('Your Amount is:' ,a)\n"
   ]
  },
  {
   "cell_type": "code",
   "execution_count": null,
   "id": "6d8e892f-b98d-42c0-909e-131eb34c8ef9",
   "metadata": {},
   "outputs": [],
   "source": []
  }
 ],
 "metadata": {
  "kernelspec": {
   "display_name": "Python 3 (ipykernel)",
   "language": "python",
   "name": "python3"
  },
  "language_info": {
   "codemirror_mode": {
    "name": "ipython",
    "version": 3
   },
   "file_extension": ".py",
   "mimetype": "text/x-python",
   "name": "python",
   "nbconvert_exporter": "python",
   "pygments_lexer": "ipython3",
   "version": "3.11.7"
  }
 },
 "nbformat": 4,
 "nbformat_minor": 5
}
