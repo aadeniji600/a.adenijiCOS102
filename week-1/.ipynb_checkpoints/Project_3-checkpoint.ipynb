{
 "cells": [
  {
   "cell_type": "code",
   "execution_count": 3,
   "id": "73817333-db45-495b-b1c4-5271036f2434",
   "metadata": {},
   "outputs": [
    {
     "name": "stdin",
     "output_type": "stream",
     "text": [
      "Enter your principal: 100\n",
      "Enter your rate: 10\n",
      "Enter your time in years: 2\n",
      "Enter your m: 9\n",
      "Enter you n: 5\n"
     ]
    },
    {
     "name": "stdout",
     "output_type": "stream",
     "text": [
      "Your Amount is: 53143200.0\n"
     ]
    }
   ],
   "source": [
    "#Python code to find annuity plan\n",
    "p = int(input('Enter your principal:'))\n",
    "r = int(input('Enter your rate:'))\n",
    "t = int(input('Enter your time in years:'))\n",
    "m = int(input('Enter your m:'))\n",
    "n = int(input('Enter you n:'))\n",
    "\n",
    "a = p*m*t * (((1 + (r/n))**(n*t) - 1) / (r/n))\n",
    "print('Your Amount is:' ,a)"
   ]
  },
  {
   "cell_type": "code",
   "execution_count": null,
   "id": "dcd3d0ab-2f91-4376-8996-8458e7a2d7e7",
   "metadata": {},
   "outputs": [],
   "source": [
    "PSEUDOCODE FOR ANNUITY PLAN\n",
    "START\n",
    "INPUT p\n",
    "INPUT r\n",
    "INPUT t\n",
    "INPUT m\n",
    "INPUT n\n",
    "COMPUTE a = p*m*t * (((1 + (r/n))**(n*t) - 1) / (r/n))\n",
    "PRINT a\n",
    "END"
   ]
  },
  {
   "cell_type": "code",
   "execution_count": null,
   "id": "a66bf23a-54f7-4c1b-aefd-610674f62430",
   "metadata": {},
   "outputs": [],
   "source": []
  },
  {
   "cell_type": "code",
   "execution_count": null,
   "id": "f17c2bba-fcd9-4c45-ab2a-a2d73cf95ca9",
   "metadata": {},
   "outputs": [],
   "source": []
  },
  {
   "cell_type": "code",
   "execution_count": null,
   "id": "1ef10446-58a4-426b-902b-ec14669b461d",
   "metadata": {},
   "outputs": [],
   "source": []
  }
 ],
 "metadata": {
  "kernelspec": {
   "display_name": "Python 3 (ipykernel)",
   "language": "python",
   "name": "python3"
  },
  "language_info": {
   "codemirror_mode": {
    "name": "ipython",
    "version": 3
   },
   "file_extension": ".py",
   "mimetype": "text/x-python",
   "name": "python",
   "nbconvert_exporter": "python",
   "pygments_lexer": "ipython3",
   "version": "3.11.7"
  }
 },
 "nbformat": 4,
 "nbformat_minor": 5
}
