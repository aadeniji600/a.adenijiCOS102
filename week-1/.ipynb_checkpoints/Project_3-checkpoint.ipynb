{
 "cells": [
  {
   "cell_type": "code",
   "execution_count": 3,
   "id": "73817333-db45-495b-b1c4-5271036f2434",
   "metadata": {},
   "outputs": [
    {
     "ename": "SyntaxError",
     "evalue": "unexpected character after line continuation character (749347311.py, line 9)",
     "output_type": "error",
     "traceback": [
      "\u001b[1;36m  Cell \u001b[1;32mIn[3], line 9\u001b[1;36m\u001b[0m\n\u001b[1;33m    print('Your Amount is:' \\n,a)\u001b[0m\n\u001b[1;37m                             ^\u001b[0m\n\u001b[1;31mSyntaxError\u001b[0m\u001b[1;31m:\u001b[0m unexpected character after line continuation character\n"
     ]
    }
   ],
   "source": [
    "#Python code to find annuity plan\n",
    "p = int(input('Enter your principal:'))\n",
    "r = int(input('Enter your rate:'))\n",
    "t = int(input('Enter your time in years:'))\n",
    "m = int(input('Enter your m:'))\n",
    "n = int(input('Enter you n:'))\n",
    "\n",
    "a = p*m*t * (((1 + (r/n))**(n*t) - 1) / (r/n))\n",
    "print('Your Amount is:' ,a)"
   ]
  },
  {
   "cell_type": "code",
   "execution_count": null,
   "id": "dcd3d0ab-2f91-4376-8996-8458e7a2d7e7",
   "metadata": {},
   "outputs": [],
   "source": [
    "PSEUDOCODE FOR ANNUITY PLAN\n",
    "START\n",
    "INPUT p\n",
    "INPUT r\n",
    "INPUT t\n",
    "INPUT m\n",
    "INPUT n\n",
    "COMPUTE a = p*m*t * (((1 + (r/n))**(n*t) - 1) / (r/n))\n",
    "PRINT a\n",
    "END"
   ]
  },
  {
   "cell_type": "code",
   "execution_count": null,
   "id": "a66bf23a-54f7-4c1b-aefd-610674f62430",
   "metadata": {},
   "outputs": [],
   "source": []
  },
  {
   "cell_type": "code",
   "execution_count": null,
   "id": "f17c2bba-fcd9-4c45-ab2a-a2d73cf95ca9",
   "metadata": {},
   "outputs": [],
   "source": []
  },
  {
   "cell_type": "code",
   "execution_count": null,
   "id": "1ef10446-58a4-426b-902b-ec14669b461d",
   "metadata": {},
   "outputs": [],
   "source": []
  }
 ],
 "metadata": {
  "kernelspec": {
   "display_name": "Python 3 (ipykernel)",
   "language": "python",
   "name": "python3"
  },
  "language_info": {
   "codemirror_mode": {
    "name": "ipython",
    "version": 3
   },
   "file_extension": ".py",
   "mimetype": "text/x-python",
   "name": "python",
   "nbconvert_exporter": "python",
   "pygments_lexer": "ipython3",
   "version": "3.11.7"
  }
 },
 "nbformat": 4,
 "nbformat_minor": 5
}
