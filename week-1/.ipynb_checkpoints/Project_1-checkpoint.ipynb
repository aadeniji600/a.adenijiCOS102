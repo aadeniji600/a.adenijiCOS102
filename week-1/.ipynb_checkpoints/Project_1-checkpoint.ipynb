{
 "cells": [
  {
   "cell_type": "code",
   "execution_count": 2,
   "id": "f4836965-eda1-4ea9-bdb1-20684ae4dc8d",
   "metadata": {},
   "outputs": [
    {
     "name": "stdin",
     "output_type": "stream",
     "text": [
      "Enter your principal: Timini\n",
      "Enter your rate of interest: 34\n",
      "Enter the time period in years: 2\n"
     ]
    },
    {
     "name": "stdout",
     "output_type": "stream",
     "text": [
      "Timini\n",
      "Your Simple Interest is: 0.68\n",
      "Your Amount is: 34.68\n"
     ]
    }
   ],
   "source": [
    "# Python program to find simple interest\n",
    "p = int(input('Enter your principal:'))\n",
    "r = int(input('Enter your rate of interest:'))\n",
    "t = int(input('Enter the time period in years:'))\n",
    "\n",
    "si = (p * r * t)/100\n",
    "print('Your Simple Interest is:' ,si)\n",
    "a = p + si\n",
    "print('Your Amount is:' ,a)"
   ]
  },
  {
   "cell_type": "markdown",
   "id": "ccc31567-c2eb-453e-8912-aa8218053981",
   "metadata": {},
   "source": [
    "PSEUSOCODE FOR CALCULATING SIMPLE INTEREST\n",
    "START\r\n",
    "INPUT p\r\n",
    "INPUT r\r\n",
    "INPUT t\r\n",
    "COMPUTE si = (p * r * t)/100\r\n",
    "PRINT si\r\n",
    "COMPUTE a = p + si\r\n",
    "\n",
    "ENDPRINT a\r\n"
   ]
  }
 ],
 "metadata": {
  "kernelspec": {
   "display_name": "Python 3 (ipykernel)",
   "language": "python",
   "name": "python3"
  },
  "language_info": {
   "codemirror_mode": {
    "name": "ipython",
    "version": 3
   },
   "file_extension": ".py",
   "mimetype": "text/x-python",
   "name": "python",
   "nbconvert_exporter": "python",
   "pygments_lexer": "ipython3",
   "version": "3.11.7"
  }
 },
 "nbformat": 4,
 "nbformat_minor": 5
}
