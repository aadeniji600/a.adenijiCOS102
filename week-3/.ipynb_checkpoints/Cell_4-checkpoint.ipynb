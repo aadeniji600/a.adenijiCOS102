{
 "cells": [
  {
   "cell_type": "code",
   "execution_count": 6,
   "id": "390ab6f9-8dcb-423e-9c34-0ed57b543a3e",
   "metadata": {},
   "outputs": [
    {
     "name": "stdout",
     "output_type": "stream",
     "text": [
      "('Ekiti', 750, 'Oshogbo', 250, 'Akure', 500)\n",
      "500\n",
      "('Oshogbo', 250)\n",
      "('Oshogbo', 250, 'Akure', 500)\n",
      "('Abeokuta', 300, 'Ogbomoso', 'Abeokuta', 300, 'Ogbomoso')\n",
      "('Ekiti', 750, 'Oshogbo', 250, 'Akure', 500, 'Abeokuta', 300, 'Ogbomoso')\n",
      "Ekiti Ekiti\n"
     ]
    }
   ],
   "source": [
    "#PYTHON TUPLE DATA TYPE\n",
    "\n",
    "tuple = (\"Ekiti\", 750, 'Oshogbo', 250, \"Akure\", 500)\n",
    "tuple2 = (\"Abeokuta\", 300, \"Ogbomoso\")\n",
    "\n",
    "#Prints the complete tuple\n",
    "print (tuple)\n",
    "\n",
    "#Prints last element of the tuple\n",
    "print (tuple[-1])\n",
    "\n",
    "#Prints elements of the tuple starting from the 2nd till 3rd\n",
    "print (tuple[2:4])\n",
    "\n",
    "#Prints elements of the tuple starting from the 3rd element\n",
    "print (tuple[2:])\n",
    "\n",
    "#Prints the contents of the tuple twice\n",
    "print (tuple2 * 2)\n",
    "\n",
    "#Prints concatenated tuples\n",
    "print (tuple + tuple2)\n",
    "\n",
    "print (tuple[0], tuple2[0])\n",
    "\n"
   ]
  },
  {
   "cell_type": "code",
   "execution_count": null,
   "id": "7371282a-4ac9-4cd7-9ecf-ef68b77034e5",
   "metadata": {},
   "outputs": [],
   "source": []
  }
 ],
 "metadata": {
  "kernelspec": {
   "display_name": "Python 3 (ipykernel)",
   "language": "python",
   "name": "python3"
  },
  "language_info": {
   "codemirror_mode": {
    "name": "ipython",
    "version": 3
   },
   "file_extension": ".py",
   "mimetype": "text/x-python",
   "name": "python",
   "nbconvert_exporter": "python",
   "pygments_lexer": "ipython3",
   "version": "3.11.7"
  }
 },
 "nbformat": 4,
 "nbformat_minor": 5
}
