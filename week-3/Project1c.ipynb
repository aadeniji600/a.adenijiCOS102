{
 "cells": [
  {
   "cell_type": "code",
   "execution_count": 11,
   "id": "5ac6f2c1-6e96-4435-a6b9-458071926505",
   "metadata": {},
   "outputs": [
    {
     "name": "stdin",
     "output_type": "stream",
     "text": [
      "Enter a name: Tasha\n",
      "Enter an age: 18\n",
      "Enter another name: Kim\n",
      "Enter another age: 20\n"
     ]
    },
    {
     "name": "stdout",
     "output_type": "stream",
     "text": [
      "Tasha is 18 years old\n",
      "Kim is 20 years old\n",
      "Tasha 20\n",
      "Kim 18\n"
     ]
    }
   ],
   "source": [
    "a = str(input('Enter a name:'))\n",
    "b = int(input('Enter an age:'))\n",
    "c = str(input('Enter another name:'))\n",
    "d = int(input('Enter another age:'))\n",
    "\n",
    "print(f\"{a} is {b} years old\")\n",
    "print(f\"{c} is {d} years old\")\n",
    "\n",
    "tuple1 = (a, c)\n",
    "tuple2 = (b, d)\n",
    "\n",
    "#switching their ages\n",
    "print (tuple1[0], tuple2[1])\n",
    "print (tuple1[1], tuple2[0])\n"
   ]
  },
  {
   "cell_type": "markdown",
   "id": "1910fee7-896a-4239-a37e-41317be4d732",
   "metadata": {},
   "source": [
    "PSEUDOCODE\n",
    "START\n",
    "INPUT a\n",
    "INPUT b\n",
    "INPUT c\n",
    "INPUT d\n",
    "PRINT (f\"{a} is {b} years old\")\n",
    "PRINT (f\"{c} is {d} years old\")\n",
    "INPUT tuple1 = (a, c)\n",
    "INPUT tuple2 = (b, d)\n",
    "PRINT (tuple1[0], tuple2[1])\n",
    "PRINT (tuple1[1], tuple2[0])\n",
    "END"
   ]
  }
 ],
 "metadata": {
  "kernelspec": {
   "display_name": "Python 3 (ipykernel)",
   "language": "python",
   "name": "python3"
  },
  "language_info": {
   "codemirror_mode": {
    "name": "ipython",
    "version": 3
   },
   "file_extension": ".py",
   "mimetype": "text/x-python",
   "name": "python",
   "nbconvert_exporter": "python",
   "pygments_lexer": "ipython3",
   "version": "3.11.7"
  }
 },
 "nbformat": 4,
 "nbformat_minor": 5
}
