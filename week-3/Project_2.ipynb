{
 "cells": [
  {
   "cell_type": "code",
   "execution_count": 4,
   "id": "5a8e916d-7d38-4855-870b-6f1757ece6b6",
   "metadata": {},
   "outputs": [
    {
     "name": "stdin",
     "output_type": "stream",
     "text": [
      "Enter the value of a: -5\n",
      "Enter the value of b: 8\n",
      "Enter the value of c: 2\n"
     ]
    },
    {
     "name": "stdout",
     "output_type": "stream",
     "text": [
      "The first root of your quadratic equation is: -33.495097567963924\n"
     ]
    }
   ],
   "source": [
    "a = int(input('Enter the value of a:'))\n",
    "b = int(input('Enter the value of b:'))\n",
    "c = int(input('Enter the value of c:'))\n",
    "\n",
    "from math import sqrt\n",
    "qe = -b + (sqrt((b**2) - (4*a*c))) / 2*a\n",
    "\n",
    "print('The first root of your quadratic equation is:' ,qe)\n"
   ]
  },
  {
   "cell_type": "code",
   "execution_count": null,
   "id": "8bb7c392-8098-41cf-89cd-ac35a592734c",
   "metadata": {},
   "outputs": [],
   "source": []
  }
 ],
 "metadata": {
  "kernelspec": {
   "display_name": "Python 3 (ipykernel)",
   "language": "python",
   "name": "python3"
  },
  "language_info": {
   "codemirror_mode": {
    "name": "ipython",
    "version": 3
   },
   "file_extension": ".py",
   "mimetype": "text/x-python",
   "name": "python",
   "nbconvert_exporter": "python",
   "pygments_lexer": "ipython3",
   "version": "3.11.7"
  }
 },
 "nbformat": 4,
 "nbformat_minor": 5
}
