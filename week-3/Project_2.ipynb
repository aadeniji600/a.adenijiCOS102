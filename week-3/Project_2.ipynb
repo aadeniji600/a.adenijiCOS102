{
 "cells": [
  {
   "cell_type": "code",
   "execution_count": 7,
   "id": "5a8e916d-7d38-4855-870b-6f1757ece6b6",
   "metadata": {},
   "outputs": [
    {
     "name": "stdin",
     "output_type": "stream",
     "text": [
      "Enter the value of a: 4\n",
      "Enter the value of b: 12\n",
      "Enter the value of c: 3\n"
     ]
    },
    {
     "name": "stdout",
     "output_type": "stream",
     "text": [
      "The roots of your quadratic are: (-2.724744871391589+0j) (-0.27525512860841106+0j)\n"
     ]
    }
   ],
   "source": [
    "a = int(input('Enter the value of a:'))\n",
    "b = int(input('Enter the value of b:'))\n",
    "c = int(input('Enter the value of c:'))\n",
    "\n",
    "#find discriminants\n",
    "d = (b**2) - (4*a*c)\n",
    "\n",
    "import cmath\n",
    "sol1 = ((-b-cmath.sqrt(d))/(2*a))\n",
    "sol2 = ((-b+cmath.sqrt(d))/(2*a))\n",
    "\n",
    "\n",
    "print('The roots of your quadratic are:' ,sol1, sol2)\n"
   ]
  },
  {
   "cell_type": "code",
   "execution_count": null,
   "id": "8bb7c392-8098-41cf-89cd-ac35a592734c",
   "metadata": {},
   "outputs": [],
   "source": []
  }
 ],
 "metadata": {
  "kernelspec": {
   "display_name": "Python 3 (ipykernel)",
   "language": "python",
   "name": "python3"
  },
  "language_info": {
   "codemirror_mode": {
    "name": "ipython",
    "version": 3
   },
   "file_extension": ".py",
   "mimetype": "text/x-python",
   "name": "python",
   "nbconvert_exporter": "python",
   "pygments_lexer": "ipython3",
   "version": "3.11.7"
  }
 },
 "nbformat": 4,
 "nbformat_minor": 5
}
