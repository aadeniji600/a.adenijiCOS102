{
 "cells": [
  {
   "cell_type": "code",
   "execution_count": 1,
   "id": "8282537e-7ef0-486b-b9a9-d0c9a54114c9",
   "metadata": {},
   "outputs": [
    {
     "name": "stdout",
     "output_type": "stream",
     "text": [
      "['Anaconda', 768, 2.23, 'Jupyter', 70.2]\n",
      "Anaconda\n",
      "[768, 2.23]\n",
      "[2.23, 'Jupyter', 70.2]\n",
      "[321, 'Python', 321, 'Python']\n",
      "['Anaconda', 768, 2.23, 'Jupyter', 70.2, 321, 'Python']\n"
     ]
    }
   ],
   "source": [
    "list = [ 'Anaconda', 768, 2.23, 'Jupyter', 70.2 ]\n",
    "shortlist = [321, 'Python']\n",
    "\n",
    "print(list)             #Prints complete list\n",
    "print(list[0])          #Prints fist element of the list\n",
    "print(list[1:3])        #Prints element starting from 2nd till 3rd\n",
    "print(list[2:])         #Prints elememts starting from 3rd element\n",
    "print(shortlist * 2)    #Prints list 2 times\n",
    "print(list + shortlist) #Prints cocatenated lists"
   ]
  },
  {
   "cell_type": "code",
   "execution_count": null,
   "id": "cc0bbf27-f833-44af-b2c8-6bdb49d4210a",
   "metadata": {},
   "outputs": [],
   "source": []
  }
 ],
 "metadata": {
  "kernelspec": {
   "display_name": "Python 3 (ipykernel)",
   "language": "python",
   "name": "python3"
  },
  "language_info": {
   "codemirror_mode": {
    "name": "ipython",
    "version": 3
   },
   "file_extension": ".py",
   "mimetype": "text/x-python",
   "name": "python",
   "nbconvert_exporter": "python",
   "pygments_lexer": "ipython3",
   "version": "3.11.7"
  }
 },
 "nbformat": 4,
 "nbformat_minor": 5
}
