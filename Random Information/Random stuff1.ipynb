{
 "cells": [
  {
   "cell_type": "code",
   "execution_count": null,
   "id": "f9748652-5bbc-4b68-a14b-0cecb4c154b5",
   "metadata": {},
   "outputs": [],
   "source": [
    "# How to attach all the entry boxes to the submit button in oop\n",
    "def submit(self):\n",
    "        firstname = self.firstname_entry.get()\n",
    "        lastname = self.lastname_entry.get()\n",
    "        division = self.division_entry.get()\n",
    "        messagebox.showinfo(\"Submitted Info\", f\"Firstname: {firstname}\\nLastname: {lastname}\\nDivision: {division}\")"
   ]
  }
 ],
 "metadata": {
  "kernelspec": {
   "display_name": "Python 3 (ipykernel)",
   "language": "python",
   "name": "python3"
  },
  "language_info": {
   "codemirror_mode": {
    "name": "ipython",
    "version": 3
   },
   "file_extension": ".py",
   "mimetype": "text/x-python",
   "name": "python",
   "nbconvert_exporter": "python",
   "pygments_lexer": "ipython3",
   "version": "3.11.7"
  }
 },
 "nbformat": 4,
 "nbformat_minor": 5
}
