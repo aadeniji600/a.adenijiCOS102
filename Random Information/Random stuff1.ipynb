{
 "cells": [
  {
   "cell_type": "markdown",
   "id": "1daec22a-12a0-4d5e-a1c5-3fe7cb4008ec",
   "metadata": {},
   "source": [
    "# How to attach all the entry boxes to the submit button in oop\n",
    "def submit(self):\n",
    "        firstname = self.firstname_entry.get()\n",
    "        lastname = self.lastname_entry.get()\n",
    "        division = self.division_entry.get()\n",
    "        messagebox.showinfo(\"Submitted Info\", f\"Firstname: {firstname}\\nLastname: {lastname}\\nDivision: {division}\")"
   ]
  },
  {
   "cell_type": "markdown",
   "id": "c146fd84-587f-4c0d-9535-9d544423cabb",
   "metadata": {},
   "source": [
    "# From week 11's project \n",
    "df = pd.read_csv('SIS.csv')\n",
    "        \n",
    "# This ensures the 'Age' column is of string type and strip any whitespace\n",
    "df['Age'] = df['Age'].astype(str).str.strip()\n",
    "        \n",
    "# This filter the DataFrame for specific ages\n",
    "the_pirates = df[df['Age'].isin(['15', '16', '17', '18'])]\n",
    "        \n",
    "# Print the filtered DataFrame\n",
    "print(the_pirates)\n",
    "the_pirates.to_csv('the_pirates.csv', index=False)\n",
    "##########################################################################################################\n",
    "def extras(self):\n",
    "        df = pd.read_csv('SIS.csv')\n",
    "        \n",
    "        df['Age'] = df['Age'].astype(str).str.strip()\n",
    "        \n",
    "        the_extras = df[df['Age'].isin(['26', '27', '28', '29', '30'])]\n",
    "        \n",
    "        print(the_extras)\n",
    "        the_extras.to_csv('the_extras.csv', index=False)\n",
    "        print('Status:', self.status)\n",
    "\n",
    "\n",
    "\n",
    "        def check_age(self):\n",
    "        df = pd.read_csv('SIS.csv')\n",
    "        df['Age'] = df['Age'].astype(str).str.strip()\n",
    "        \n",
    "        if any(df['Age'].astype(int) > 25):\n",
    "            print(\"Error: Age exceeds 25 in the dataset.\")\n",
    "        else:\n",
    "            print(\"All ages are 25 or below.\")\n",
    "        print('Status:', self.status)"
   ]
  },
  {
   "cell_type": "code",
   "execution_count": null,
   "id": "2b8910f5-cb32-4591-a223-a0fb82a08f12",
   "metadata": {},
   "outputs": [],
   "source": []
  }
 ],
 "metadata": {
  "kernelspec": {
   "display_name": "Python 3 (ipykernel)",
   "language": "python",
   "name": "python3"
  },
  "language_info": {
   "codemirror_mode": {
    "name": "ipython",
    "version": 3
   },
   "file_extension": ".py",
   "mimetype": "text/x-python",
   "name": "python",
   "nbconvert_exporter": "python",
   "pygments_lexer": "ipython3",
   "version": "3.11.7"
  }
 },
 "nbformat": 4,
 "nbformat_minor": 5
}
