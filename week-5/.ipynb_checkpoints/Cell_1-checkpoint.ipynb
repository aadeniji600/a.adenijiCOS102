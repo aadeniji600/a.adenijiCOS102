{
 "cells": [
  {
   "cell_type": "code",
   "execution_count": 2,
   "id": "974bafee-de89-4ae6-97e4-cb7a4676b2bc",
   "metadata": {},
   "outputs": [
    {
     "name": "stdout",
     "output_type": "stream",
     "text": [
      "I'm first call to user defined function!\n",
      "Again second call to the same function\n"
     ]
    }
   ],
   "source": [
    "def printme(str):\n",
    "    #This is a print function\n",
    "    print (str);\n",
    "    return;\n",
    "\n",
    "printme(\"I'm first call to user defined function!\");\n",
    "printme(\"Again second call to the same function\");"
   ]
  },
  {
   "cell_type": "code",
   "execution_count": null,
   "id": "198ceecc-89ea-4b34-84ee-0a863df05fc4",
   "metadata": {},
   "outputs": [],
   "source": []
  }
 ],
 "metadata": {
  "kernelspec": {
   "display_name": "Python 3 (ipykernel)",
   "language": "python",
   "name": "python3"
  },
  "language_info": {
   "codemirror_mode": {
    "name": "ipython",
    "version": 3
   },
   "file_extension": ".py",
   "mimetype": "text/x-python",
   "name": "python",
   "nbconvert_exporter": "python",
   "pygments_lexer": "ipython3",
   "version": "3.11.7"
  }
 },
 "nbformat": 4,
 "nbformat_minor": 5
}
