{
 "cells": [
  {
   "cell_type": "code",
   "execution_count": 1,
   "id": "d2bf20b4-42fa-4f2c-936e-404511b33000",
   "metadata": {},
   "outputs": [
    {
     "name": "stdout",
     "output_type": "stream",
     "text": [
      "CSV file 'cadbury_market.csv' has been created successfully!\n"
     ]
    }
   ],
   "source": [
    "import pandas as pd\n",
    "\n",
    "# Define the data\n",
    "data = {\n",
    "    'Product Category': ['Intermediate Cocoa Products', 'Intermediate Cocoa Products', 'Intermediate Cocoa Products',\n",
    "                         'Intermediate Cocoa Products', 'Refreshment Beverages', 'Refreshment Beverages',\n",
    "                         'Confectionery', 'Confectionery', 'Confectionery'],\n",
    "    'Segment': ['Cocoa Products', 'Cocoa Products', 'Cocoa Products', 'Cocoa Products',\n",
    "                'Beverages', 'Beverages', 'Confectionery', 'Confectionery', 'Confectionery'],\n",
    "    'Brand': ['Cocoa Powder', 'Cocoa Butter', 'Cocoa Liquor', 'Cocoa Cake',\n",
    "              'Bournvita', 'Hot Chocolate', 'Tom Tom Classic', 'Tom Tom Strawberry', 'Buttermint']\n",
    "}\n",
    "\n",
    "# Create a DataFrame\n",
    "df = pd.DataFrame(data)\n",
    "\n",
    "# Save the DataFrame to a CSV file\n",
    "df.to_csv('cadburyy_market.csv', index=False)\n",
    "\n",
    "print(\"CSV file 'cadburyy_market.csv' has been created successfully!\")"
   ]
  },
  {
   "cell_type": "code",
   "execution_count": null,
   "id": "5fdfb7b0-0565-4784-bb62-b87d0d882bfd",
   "metadata": {},
   "outputs": [],
   "source": []
  }
 ],
 "metadata": {
  "kernelspec": {
   "display_name": "Python 3 (ipykernel)",
   "language": "python",
   "name": "python3"
  },
  "language_info": {
   "codemirror_mode": {
    "name": "ipython",
    "version": 3
   },
   "file_extension": ".py",
   "mimetype": "text/x-python",
   "name": "python",
   "nbconvert_exporter": "python",
   "pygments_lexer": "ipython3",
   "version": "3.11.7"
  }
 },
 "nbformat": 4,
 "nbformat_minor": 5
}
