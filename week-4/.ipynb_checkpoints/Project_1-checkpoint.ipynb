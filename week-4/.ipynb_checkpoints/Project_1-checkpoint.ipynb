{
 "cells": [
  {
   "cell_type": "code",
   "execution_count": 103,
   "id": "b82dec4e-b157-4613-a796-e0306d708361",
   "metadata": {},
   "outputs": [
    {
     "name": "stdout",
     "output_type": "stream",
     "text": [
      "\n",
      "FEMALE STUDENT DETAILS\n",
      "\n",
      "Name              Age            Height        Score\n",
      "Evelyna      |      17      |      5.5      |      80\n",
      "Jesslyn      |      16      |      6.0      |      85\n",
      "Addison      |      17      |      5.4      |      70\n",
      "Edythia      |      18      |      5.9      |      60\n",
      "Arielle      |      16      |      5.6      |      76\n",
      "Braedyn      |      18      |      5.5      |      66\n",
      "Aaliyah      |      17      |      6.1      |      87\n",
      "Isabele      |      20      |      6.0      |      95\n",
      "Genesis      |      19      |      5.7      |      50\n",
      "Yasmynn      |      17      |      5.5      |      49\n",
      "\n",
      "MALE STUDENT DETAILS\n",
      "\n",
      "Name             Age              Height       Score\n",
      "Chinedu      |      19      |      5.7      |      74\n",
      "Ibrahim      |      16      |      5.9      |      87\n",
      "Harison      |      18      |      5.8      |      75\n",
      "Antonio      |      17      |      6.1      |      68\n",
      "Killian      |      20      |      5.9      |      66\n",
      "Charles      |      19      |      5.5      |      78\n",
      "Dominic      |      16      |      6.1      |      87\n",
      "Georgie      |      18      |      5.4      |      98\n",
      "Grayson      |      17      |      5.8      |      54\n",
      "Eduardo      |      19      |      5.7      |      60\n"
     ]
    }
   ],
   "source": [
    "#GIRLS\n",
    "Names = ['Evelyna','Jesslyn', 'Addison', 'Edythia', 'Arielle', 'Braedyn','Aaliyah','Isabele','Genesis', 'Yasmynn']\n",
    "Ages = [17, 16, 17, 18, 16, 18, 17, 20, 19, 17]\n",
    "Heights = [5.5, 6.0, 5.4, 5.9, 5.6, 5.5, 6.1, 6.0, 5.7, 5.5]\n",
    "Scores = [80, 85, 70, 60, 76, 66,87, 95, 50, 49]\n",
    "\n",
    "#BOYS\n",
    "Name = ['Chinedu', 'Ibrahim', 'Harison', 'Antonio', 'Killian','Charles','Dominic','Georgie', 'Grayson', 'Eduardo']\n",
    "Age = [19, 16, 18, 17, 20, 19, 16, 18, 17, 19]\n",
    "Height = [5.7, 5.9, 5.8, 6.1, 5.9, 5.5, 6.1, 5.4, 5.8, 5.7]\n",
    "Score = [74, 87, 75, 68, 66, 78, 87, 98, 54, 60]\n",
    "\n",
    "print(\"\\nFEMALE STUDENT DETAILS\\n\")\n",
    "print(\"Name              Age            Height        Score\")\n",
    "for i in range(10):\n",
    "    print(Names[i], '     |     ', Ages[i], '     |     ',Heights[i], '     |     ',Scores[i])\n",
    "\n",
    "print(\"\\nMALE STUDENT DETAILS\\n\")\n",
    "print(\"Name             Age              Height       Score\")\n",
    "for i in range(10):\n",
    "    print(Name[i], '     |     ', Age[i], '     |     ',Height[i], '     |     ',Score[i])\n",
    "\n"
   ]
  },
  {
   "cell_type": "code",
   "execution_count": null,
   "id": "8fc1dc8b-1a48-449f-a85e-c05a104bd46b",
   "metadata": {},
   "outputs": [],
   "source": []
  }
 ],
 "metadata": {
  "kernelspec": {
   "display_name": "Python 3 (ipykernel)",
   "language": "python",
   "name": "python3"
  },
  "language_info": {
   "codemirror_mode": {
    "name": "ipython",
    "version": 3
   },
   "file_extension": ".py",
   "mimetype": "text/x-python",
   "name": "python",
   "nbconvert_exporter": "python",
   "pygments_lexer": "ipython3",
   "version": "3.11.7"
  }
 },
 "nbformat": 4,
 "nbformat_minor": 5
}
