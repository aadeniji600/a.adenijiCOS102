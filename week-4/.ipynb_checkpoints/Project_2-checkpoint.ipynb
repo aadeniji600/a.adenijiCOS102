{
 "cells": [
  {
   "cell_type": "code",
   "execution_count": null,
   "id": "1c3e74ff-1040-4448-a40c-5f6f5dfe3630",
   "metadata": {},
   "outputs": [],
   "source": [
    "\n",
    "print(\"Welcome to National Union Asociation's Annual Tax Revenue System\")\n",
    "print('Kindly follow the instructions below to decipher your Annual Tax Revenue')\n",
    "\n",
    "a = int(input('Enter the number of your years of experience:'))\n",
    "b = int(input('Enter your age:'))\n",
    "\n",
    "if (a > 25) and (b >= 55):\n",
    "    print('Your annual tax revenue is N5,600,000.')\n",
    "\n",
    "elif (a > 20) and (b >= 45):\n",
    "    print('Your annual tax revenue is N4,480,000')\n",
    "\n",
    "elif (a > 10) and (b >= 35):  \n",
    "    print('Your annual tax revenue is N1,500,00')\n",
    "\n",
    "elif (a < 10) and (b < 35):\n",
    "    print('Your annual tax revenue is N550,000')\n",
    "    \n",
    "else:\n",
    "    print(\"You don't qualify for this.\")\n",
    "\n",
    "\n",
    "\n"
   ]
  }
 ],
 "metadata": {
  "kernelspec": {
   "display_name": "Python 3 (ipykernel)",
   "language": "python",
   "name": "python3"
  },
  "language_info": {
   "codemirror_mode": {
    "name": "ipython",
    "version": 3
   },
   "file_extension": ".py",
   "mimetype": "text/x-python",
   "name": "python",
   "nbconvert_exporter": "python",
   "pygments_lexer": "ipython3",
   "version": "3.11.7"
  }
 },
 "nbformat": 4,
 "nbformat_minor": 5
}
